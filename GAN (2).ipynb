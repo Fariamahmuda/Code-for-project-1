{
 "cells": [
  {
   "cell_type": "code",
   "execution_count": 1,
   "id": "edd46abf-8052-482d-a040-46e8f38dcaad",
   "metadata": {},
   "outputs": [],
   "source": [
    "import os\n",
    "import time\n",
    "import numpy as np\n",
    "\n",
    "import torch\n",
    "import torch.nn as nn\n",
    "import torch.nn.functional as F\n",
    "\n",
    "\n",
    "from torchvision import datasets\n",
    "from torch.utils.data import DataLoader\n",
    "import torchvision.transforms as transforms\n",
    "from torch import optim\n",
    "from torchvision.transforms.functional import to_pil_image\n",
    "\n",
    "import matplotlib.pyplot as plt\n",
    "\n",
    "import warnings\n",
    "warnings.filterwarnings(\"ignore\")\n",
    "\n",
    "%matplotlib inline"
   ]
  },
  {
   "cell_type": "code",
   "execution_count": 2,
   "id": "65dc368f-9837-4902-a242-a52fbdf4b6fa",
   "metadata": {},
   "outputs": [],
   "source": [
    "device = torch.device(\"cuda\" if torch.cuda.is_available() else \"cpu\")"
   ]
  },
  {
   "cell_type": "code",
   "execution_count": 3,
   "id": "03c8b964-57d6-4509-b29f-e3e37ccd375a",
   "metadata": {},
   "outputs": [
    {
     "data": {
      "text/plain": [
       "device(type='cpu')"
      ]
     },
     "execution_count": 3,
     "metadata": {},
     "output_type": "execute_result"
    }
   ],
   "source": [
    "device"
   ]
  },
  {
   "cell_type": "code",
   "execution_count": 4,
   "id": "fa6f2cc4-0846-49fa-938a-87e30c184abe",
   "metadata": {},
   "outputs": [],
   "source": [
    "dataPath = \"data\"\n",
    "os.makedirs(dataPath, exist_ok=True)"
   ]
  },
  {
   "cell_type": "code",
   "execution_count": 5,
   "id": "870043bf-3fd5-49de-bf4f-8d6045a07372",
   "metadata": {},
   "outputs": [],
   "source": [
    "trainDatasets = datasets.MNIST(dataPath, \n",
    "                              train = True, \n",
    "                              download = True,\n",
    "                              transform = transforms.Compose([transforms.ToTensor(),\n",
    "                                            transforms.Normalize([0.5], [0.5])]))"
   ]
  },
  {
   "cell_type": "code",
   "execution_count": 6,
   "id": "604eeeaa-70dd-4182-89b5-c9a329089ffd",
   "metadata": {},
   "outputs": [
    {
     "data": {
      "text/plain": [
       "0"
      ]
     },
     "execution_count": 6,
     "metadata": {},
     "output_type": "execute_result"
    }
   ],
   "source": [
    "trainDatasets[1000][1]"
   ]
  },
  {
   "cell_type": "code",
   "execution_count": 7,
   "id": "8cfaa17f-15fb-488f-8947-654b80def131",
   "metadata": {},
   "outputs": [
    {
     "data": {
      "image/png": "[encoded data removed]",
      "text/plain": [
       "<Figure size 432x288 with 1 Axes>"
      ]
     },
     "metadata": {
      "needs_background": "light"
     },
     "output_type": "display_data"
    }
   ],
   "source": [
    "imageData , labelData = trainDatasets[10]\n",
    "plt.imshow(to_pil_image(imageData), cmap = \"gray\")\n",
    "plt.show()"
   ]
  },
  {
   "cell_type": "code",
   "execution_count": 8,
   "id": "fa6d8324-d3f0-4b30-bcd4-aab881feafe7",
   "metadata": {},
   "outputs": [],
   "source": [
    "# def visualization():\n",
    "#     for i in range(np.random.randint(1, 30000, 10)):\n",
    "#         imageData , labelData = trainDatasets[1000]\n",
    "#         plt.imshow(to_pil_image(imageData), cmap = \"gray\")\n",
    "#         plt.show()"
   ]
  },
  {
   "cell_type": "code",
   "execution_count": 9,
   "id": "e2c1b41f-bc3f-4fb9-a6d6-34d6f3e241c9",
   "metadata": {},
   "outputs": [],
   "source": [
    "trainDataLoader = DataLoader(trainDatasets,\n",
    "                             batch_size = 64,\n",
    "                            shuffle =True)"
   ]
  },
  {
   "cell_type": "code",
   "execution_count": 10,
   "id": "03f03073-f828-489a-9e9a-7f0d8d37f4a0",
   "metadata": {},
   "outputs": [
    {
     "name": "stdout",
     "output_type": "stream",
     "text": [
      "X Data shape is : torch.Size([64, 1, 28, 28])  and Y datasets shape is  torch.Size([64])\n"
     ]
    }
   ],
   "source": [
    "for x, y in trainDataLoader:\n",
    "    print(\"X Data shape is : {}  and Y datasets shape is  {}\".format(x.shape, y.shape))\n",
    "    break"
   ]
  },
  {
   "cell_type": "code",
   "execution_count": 11,
   "id": "7ae77697-876d-4d8a-864a-bd47f7b2a94e",
   "metadata": {},
   "outputs": [
    {
     "data": {
      "text/plain": [
       "2"
      ]
     },
     "execution_count": 11,
     "metadata": {},
     "output_type": "execute_result"
    }
   ],
   "source": [
    "len(trainDatasets[0])"
   ]
  },
  {
   "cell_type": "code",
   "execution_count": 12,
   "id": "3f91d888-1afc-444c-95f9-5e6d972776ff",
   "metadata": {},
   "outputs": [
    {
     "data": {
      "text/plain": [
       "Linear(in_features=1024, out_features=784, bias=True)"
      ]
     },
     "execution_count": 12,
     "metadata": {},
     "output_type": "execute_result"
    }
   ],
   "source": [
    "nn.Linear(1024, int(np.prod([28, 28,1])))"
   ]
  },
  {
   "cell_type": "code",
   "execution_count": 13,
   "id": "7009b722-bd2e-4ecd-9008-2fa307d266b0",
   "metadata": {},
   "outputs": [],
   "source": [
    "class Generator(nn.Module):\n",
    "    def __init__(self, parameter):\n",
    "        #Parent Class\n",
    "        super().__init__()\n",
    "        self.noise = parameter['noise']\n",
    "        self.image_size = parameter['image_size']\n",
    "        \n",
    "        \n",
    "        self.model =  nn.Sequential(\n",
    "            *self.fc_layers(self.noise, 128, normalize = False),\n",
    "            *self.fc_layers(128, 256),\n",
    "            *self.fc_layers(256, 512), \n",
    "            *self.fc_layers(512, 1024),\n",
    "            nn.Linear(1024, int(np.prod(self.image_size))),\n",
    "            nn.Tanh()\n",
    "        )\n",
    "        \n",
    "    def forward(self, z):\n",
    "        image = self.model(z)\n",
    "        image = image.view(image.size(0), *self.image_size)\n",
    "        return image\n",
    "    \n",
    "    \n",
    "    def fc_layers(self, in_channel,out_channel, normalize = True):\n",
    "        layers = []\n",
    "        layers.append(nn.Linear(in_channel, out_channel))\n",
    "        \n",
    "        if normalize:\n",
    "            layers.append(nn.BatchNorm1d(out_channel, 0.8))\n",
    "            \n",
    "        layers.append(nn.LeakyReLU(0.2))\n",
    "        return layers\n",
    "        "
   ]
  },
  {
   "cell_type": "code",
   "execution_count": 14,
   "id": "e9406caf-2e62-4a2c-8e78-ca678336e059",
   "metadata": {},
   "outputs": [],
   "source": [
    "params = {'noise': 100, \n",
    "         \"image_size\": (1, 28, 28)}"
   ]
  },
  {
   "cell_type": "code",
   "execution_count": 15,
   "id": "06aa0827-3bcc-44ef-8329-e9e03d36cb80",
   "metadata": {},
   "outputs": [],
   "source": [
    "x = torch.randn(16, 100).to(device) # noise value"
   ]
  },
  {
   "cell_type": "code",
   "execution_count": 16,
   "id": "c6b398dd-3afe-4f1c-a46d-d5cc218e2f43",
   "metadata": {},
   "outputs": [
    {
     "name": "stdout",
     "output_type": "stream",
     "text": [
      "tensor([[ 1.0134,  0.1997,  0.3881,  ..., -0.2176,  0.2661,  1.2559],\n",
      "        [ 0.4855,  0.5847, -0.6355,  ..., -1.2458,  0.7239,  0.1093],\n",
      "        [-0.6293, -0.5957,  2.3788,  ..., -1.6559,  2.5240,  2.4114],\n",
      "        ...,\n",
      "        [-1.2300,  0.2386, -1.3510,  ...,  0.0835, -0.2757, -1.1334],\n",
      "        [-1.4731, -0.7084,  0.8645,  ..., -0.2139,  0.3637, -0.1341],\n",
      "        [-0.4028, -0.0260, -0.9059,  ...,  0.2042,  0.2320, -0.5506]])\n"
     ]
    }
   ],
   "source": [
    "print(x)"
   ]
  },
  {
   "cell_type": "code",
   "execution_count": 17,
   "id": "9c65d15d-8110-49fa-9328-8ad1eaeac33f",
   "metadata": {},
   "outputs": [
    {
     "name": "stdout",
     "output_type": "stream",
     "text": [
      "Our Generator Model Output: torch.Size([16, 1, 28, 28])\n"
     ]
    }
   ],
   "source": [
    "model_generator = Generator(params).to(device)\n",
    "model_generator_output = model_generator(x)\n",
    "print(\"Our Generator Model Output: {}\".format(model_generator_output.shape))"
   ]
  },
  {
   "cell_type": "code",
   "execution_count": 18,
   "id": "3df7e08e-208e-486d-8ecc-185836a8bc42",
   "metadata": {},
   "outputs": [],
   "source": [
    "class Discriminator(nn.Module):\n",
    "    def __init__(self, parameter):\n",
    "        #Parent Class\n",
    "        super().__init__()\n",
    "        self.image_size = parameter['image_size']\n",
    "        \n",
    "        self.model = nn.Sequential(nn.Linear(int(np.prod(self.image_size)), 512), \n",
    "                                  nn.LeakyReLU(0.2), \n",
    "                                   \n",
    "                                  nn.Linear(512, 256), \n",
    "                                  nn.LeakyReLU(0.2),\n",
    "                                   \n",
    "                                  nn.Linear(256, 128),\n",
    "                                  nn.LeakyReLU(0.2),\n",
    "                                   \n",
    "                                  nn.Linear(128, 1), \n",
    "                                  nn.Sigmoid()\n",
    "                                  )\n",
    "        \n",
    "    def forward(self, x):\n",
    "        x = x.view(x.size(0), -1)\n",
    "        x = self.model(x)\n",
    "        return x"
   ]
  },
  {
   "cell_type": "code",
   "execution_count": 19,
   "id": "4711fbfd-af54-420d-81c6-4a5c025861e5",
   "metadata": {},
   "outputs": [],
   "source": [
    "x = torch.randn(16, 1, 28, 28).to(device)"
   ]
  },
  {
   "cell_type": "code",
   "execution_count": 20,
   "id": "2eec311e-b4d5-4d77-ac94-4d233a0749a1",
   "metadata": {},
   "outputs": [
    {
     "name": "stdout",
     "output_type": "stream",
     "text": [
      "Our Generator Model Output: torch.Size([16, 1])\n"
     ]
    }
   ],
   "source": [
    "model_discriminator = Discriminator(params).to(device)\n",
    "model_discriminator_output = model_discriminator(x)\n",
    "print(\"Our Generator Model Output: {}\".format(model_discriminator_output.shape))"
   ]
  },
  {
   "cell_type": "code",
   "execution_count": 21,
   "id": "d0fae812-555d-4fca-93db-9469547fdb50",
   "metadata": {},
   "outputs": [],
   "source": [
    "def weight_initialize(model):\n",
    "    className = model.__class__.__name__\n",
    "    \n",
    "    if className.find(\"Linear\")!=-1:\n",
    "        nn.init.normal_(model.weight.data, 0.0, 0.02)\n",
    "        nn.init.constant_(model.bias.data, 0)\n",
    "        \n",
    "    \n",
    "    if className.find(\"BatchNorm\")!=-1:\n",
    "        nn.init.normal_(model.weight.data, 0.0, 0.02)\n",
    "        nn.init.constant_(model.bias.data, 0)"
   ]
  },
  {
   "cell_type": "code",
   "execution_count": 22,
   "id": "2506c031-5af3-41a7-8fad-4836f8333326",
   "metadata": {},
   "outputs": [
    {
     "data": {
      "text/plain": [
       "Generator(\n",
       "  (model): Sequential(\n",
       "    (0): Linear(in_features=100, out_features=128, bias=True)\n",
       "    (1): LeakyReLU(negative_slope=0.2)\n",
       "    (2): Linear(in_features=128, out_features=256, bias=True)\n",
       "    (3): BatchNorm1d(256, eps=0.8, momentum=0.1, affine=True, track_running_stats=True)\n",
       "    (4): LeakyReLU(negative_slope=0.2)\n",
       "    (5): Linear(in_features=256, out_features=512, bias=True)\n",
       "    (6): BatchNorm1d(512, eps=0.8, momentum=0.1, affine=True, track_running_stats=True)\n",
       "    (7): LeakyReLU(negative_slope=0.2)\n",
       "    (8): Linear(in_features=512, out_features=1024, bias=True)\n",
       "    (9): BatchNorm1d(1024, eps=0.8, momentum=0.1, affine=True, track_running_stats=True)\n",
       "    (10): LeakyReLU(negative_slope=0.2)\n",
       "    (11): Linear(in_features=1024, out_features=784, bias=True)\n",
       "    (12): Tanh()\n",
       "  )\n",
       ")"
      ]
     },
     "execution_count": 22,
     "metadata": {},
     "output_type": "execute_result"
    }
   ],
   "source": [
    "model_generator.apply(weight_initialize)"
   ]
  },
  {
   "cell_type": "code",
   "execution_count": 23,
   "id": "6a66db6f-52c3-4cc6-a743-21d271afae37",
   "metadata": {},
   "outputs": [
    {
     "data": {
      "text/plain": [
       "Discriminator(\n",
       "  (model): Sequential(\n",
       "    (0): Linear(in_features=784, out_features=512, bias=True)\n",
       "    (1): LeakyReLU(negative_slope=0.2)\n",
       "    (2): Linear(in_features=512, out_features=256, bias=True)\n",
       "    (3): LeakyReLU(negative_slope=0.2)\n",
       "    (4): Linear(in_features=256, out_features=128, bias=True)\n",
       "    (5): LeakyReLU(negative_slope=0.2)\n",
       "    (6): Linear(in_features=128, out_features=1, bias=True)\n",
       "    (7): Sigmoid()\n",
       "  )\n",
       ")"
      ]
     },
     "execution_count": 23,
     "metadata": {},
     "output_type": "execute_result"
    }
   ],
   "source": [
    "model_discriminator.apply(weight_initialize)"
   ]
  },
  {
   "cell_type": "code",
   "execution_count": 24,
   "id": "b135e6c5-3a79-4593-af36-bd1ad9e659a9",
   "metadata": {},
   "outputs": [],
   "source": [
    "lossFunction = nn.BCELoss()# Binary Cross Entropy Loss"
   ]
  },
  {
   "cell_type": "code",
   "execution_count": 25,
   "id": "aaf4f696-0696-435a-acb1-e3b2785aa9cb",
   "metadata": {},
   "outputs": [],
   "source": [
    "learning_rate = 0.001\n",
    "beta1 = 0.5"
   ]
  },
  {
   "cell_type": "code",
   "execution_count": 26,
   "id": "06aa2607-5aca-4191-bf94-74bf7a849a81",
   "metadata": {},
   "outputs": [],
   "source": [
    "optimizer_gen = optim.Adam(model_generator.parameters(),\n",
    "                       lr = learning_rate,\n",
    "                       betas = (beta1, 0.999))\n",
    "optimizer_dis = optim.Adam(model_discriminator.parameters(),\n",
    "                       lr = learning_rate,\n",
    "                       betas = (beta1, 0.999))"
   ]
  },
  {
   "cell_type": "code",
   "execution_count": 27,
   "id": "08922306-7bda-43db-a7f3-c4a1b164dae4",
   "metadata": {},
   "outputs": [],
   "source": [
    "real_label = 1.0\n",
    "fake_label = 0.0"
   ]
  },
  {
   "cell_type": "code",
   "execution_count": 28,
   "id": "c409faf3-581c-4514-846d-af191a1c13ff",
   "metadata": {},
   "outputs": [],
   "source": [
    "noiseV = params[\"noise\"]\n",
    "num_epochs = 5"
   ]
  },
  {
   "cell_type": "code",
   "execution_count": 29,
   "id": "d5c149c8-1d18-45ce-af3e-322b20d4a5a8",
   "metadata": {},
   "outputs": [],
   "source": [
    "loss_history = {\"gen\": [],\n",
    "               \"dis\": []}"
   ]
  },
  {
   "cell_type": "code",
   "execution_count": 30,
   "id": "98f072e8-912b-41b7-a078-d823bec798d2",
   "metadata": {},
   "outputs": [],
   "source": [
    "batch_count = 0"
   ]
  },
  {
   "cell_type": "code",
   "execution_count": 31,
   "id": "7e9b4275-bbd4-42e9-aa26-9ff7395aa9bb",
   "metadata": {},
   "outputs": [
    {
     "data": {
      "text/plain": [
       "Discriminator(\n",
       "  (model): Sequential(\n",
       "    (0): Linear(in_features=784, out_features=512, bias=True)\n",
       "    (1): LeakyReLU(negative_slope=0.2)\n",
       "    (2): Linear(in_features=512, out_features=256, bias=True)\n",
       "    (3): LeakyReLU(negative_slope=0.2)\n",
       "    (4): Linear(in_features=256, out_features=128, bias=True)\n",
       "    (5): LeakyReLU(negative_slope=0.2)\n",
       "    (6): Linear(in_features=128, out_features=1, bias=True)\n",
       "    (7): Sigmoid()\n",
       "  )\n",
       ")"
      ]
     },
     "execution_count": 31,
     "metadata": {},
     "output_type": "execute_result"
    }
   ],
   "source": [
    "start_time = time.time()\n",
    "model_discriminator.train()"
   ]
  },
  {
   "cell_type": "code",
   "execution_count": 32,
   "id": "8543d289-be03-4ad5-a00e-0eefa478f2b7",
   "metadata": {},
   "outputs": [
    {
     "data": {
      "text/plain": [
       "Generator(\n",
       "  (model): Sequential(\n",
       "    (0): Linear(in_features=100, out_features=128, bias=True)\n",
       "    (1): LeakyReLU(negative_slope=0.2)\n",
       "    (2): Linear(in_features=128, out_features=256, bias=True)\n",
       "    (3): BatchNorm1d(256, eps=0.8, momentum=0.1, affine=True, track_running_stats=True)\n",
       "    (4): LeakyReLU(negative_slope=0.2)\n",
       "    (5): Linear(in_features=256, out_features=512, bias=True)\n",
       "    (6): BatchNorm1d(512, eps=0.8, momentum=0.1, affine=True, track_running_stats=True)\n",
       "    (7): LeakyReLU(negative_slope=0.2)\n",
       "    (8): Linear(in_features=512, out_features=1024, bias=True)\n",
       "    (9): BatchNorm1d(1024, eps=0.8, momentum=0.1, affine=True, track_running_stats=True)\n",
       "    (10): LeakyReLU(negative_slope=0.2)\n",
       "    (11): Linear(in_features=1024, out_features=784, bias=True)\n",
       "    (12): Tanh()\n",
       "  )\n",
       ")"
      ]
     },
     "execution_count": 32,
     "metadata": {},
     "output_type": "execute_result"
    }
   ],
   "source": [
    "model_generator.train()"
   ]
  },
  {
   "cell_type": "code",
   "execution_count": 38,
   "id": "46dbe076-9184-4933-ad23-3c6a797adf45",
   "metadata": {},
   "outputs": [
    {
     "name": "stdout",
     "output_type": "stream",
     "text": [
      "Epochs : 1, G_loss: 0.0, D_loss:50.0\n",
      "Epochs : 2, G_loss: 0.0, D_loss:50.0\n",
      "Epochs : 3, G_loss: 0.0, D_loss:50.0\n",
      "Epochs : 4, G_loss: 0.0, D_loss:50.0\n"
     ]
    }
   ],
   "source": [
    "for epoch in range(num_epochs):\n",
    "    for x_batch, y_batch in trainDataLoader:\n",
    "        batch_size = x_batch.size(0)\n",
    "        x_batch = x_batch.to(device)\n",
    "        \n",
    "        y_batch_real = torch.Tensor(batch_size, 1).fill_(1.0).to(device)\n",
    "        y_batch_fake = torch.Tensor(batch_size, 1).fill_(0.0).to(device)\n",
    "        \n",
    "        \n",
    "        model_generator.zero_grad()\n",
    "        noise = torch.randn(batch_size, noiseV, device =device)\n",
    "        out_gen = model_generator(noise)\n",
    "        out_dis = model_discriminator(out_gen)\n",
    "        \n",
    "        loss_gen = lossFunction(out_dis, y_batch_real)\n",
    "        loss_gen.backward()\n",
    "        optimizer_gen.step()\n",
    "        \n",
    "        \n",
    "        model_discriminator.zero_grad()\n",
    "        out_real = model_discriminator(x_batch)\n",
    "        out_fake = model_discriminator(out_gen.detach())\n",
    "        \n",
    "        loss_real = lossFunction(out_real, y_batch_real) \n",
    "        loss_fake = lossFunction(out_fake, y_batch_fake) \n",
    "        \n",
    "        loss_dis = (loss_real + loss_fake )/2\n",
    "        \n",
    "        loss_dis.backward()\n",
    "        optimizer_dis.step()\n",
    "        \n",
    "        loss_history[\"gen\"].append(loss_gen.item())\n",
    "        loss_history[\"dis\"].append(loss_dis.item())\n",
    "        \n",
    "        batch_count +=1\n",
    "        \n",
    "        if batch_count%1000 == 0:\n",
    "            print(\"Epochs : {}, G_loss: {}, D_loss:{}\".format(epoch, loss_gen.item(),loss_dis.item()))\n",
    "        "
   ]
  },
  {
   "cell_type": "code",
   "execution_count": 39,
   "id": "9be31b12-68f8-47d5-abf2-4383b16bf16f",
   "metadata": {},
   "outputs": [
    {
     "data": {
      "image/png": "[encoded data removed]",
      "text/plain": [
       "<Figure size 720x360 with 1 Axes>"
      ]
     },
     "metadata": {
      "needs_background": "light"
     },
     "output_type": "display_data"
    }
   ],
   "source": [
    "plt.figure(figsize = (10, 5))\n",
    "plt.title(\"Loss Approaches\")\n",
    "plt.plot(loss_history[\"gen\"], label = \"Gen. Loss\")\n",
    "plt.plot(loss_history[\"dis\"], label = \"Dis. Loss\")\n",
    "plt.xlabel(\"Counting of Batch\")\n",
    "plt.ylabel(\"Loss\")\n",
    "plt.title(\"Losss Visu.\")\n",
    "plt.grid(False)\n",
    "plt.legend()\n",
    "plt.tight_layout()\n",
    "plt.show()"
   ]
  },
  {
   "cell_type": "code",
   "execution_count": 40,
   "id": "3bd7b444-366e-4e9d-a161-2cfadf900b54",
   "metadata": {},
   "outputs": [
    {
     "data": {
      "text/plain": [
       "Generator(\n",
       "  (model): Sequential(\n",
       "    (0): Linear(in_features=100, out_features=128, bias=True)\n",
       "    (1): LeakyReLU(negative_slope=0.2)\n",
       "    (2): Linear(in_features=128, out_features=256, bias=True)\n",
       "    (3): BatchNorm1d(256, eps=0.8, momentum=0.1, affine=True, track_running_stats=True)\n",
       "    (4): LeakyReLU(negative_slope=0.2)\n",
       "    (5): Linear(in_features=256, out_features=512, bias=True)\n",
       "    (6): BatchNorm1d(512, eps=0.8, momentum=0.1, affine=True, track_running_stats=True)\n",
       "    (7): LeakyReLU(negative_slope=0.2)\n",
       "    (8): Linear(in_features=512, out_features=1024, bias=True)\n",
       "    (9): BatchNorm1d(1024, eps=0.8, momentum=0.1, affine=True, track_running_stats=True)\n",
       "    (10): LeakyReLU(negative_slope=0.2)\n",
       "    (11): Linear(in_features=1024, out_features=784, bias=True)\n",
       "    (12): Tanh()\n",
       "  )\n",
       ")"
      ]
     },
     "execution_count": 40,
     "metadata": {},
     "output_type": "execute_result"
    }
   ],
   "source": [
    "model_generator.eval()"
   ]
  },
  {
   "cell_type": "code",
   "execution_count": 51,
   "id": "7f4fd773-d942-4614-b417-cc5cfcae4686",
   "metadata": {},
   "outputs": [],
   "source": [
    "with torch.no_grad():\n",
    "    fixed_noise = torch.randn(16, 100, device = device)\n",
    "    Fakceimage = model_generator(fixed_noise).detach().cpu()"
   ]
  },
  {
   "cell_type": "code",
   "execution_count": 53,
   "id": "630387d7-f271-4fbb-94dd-4587396478ea",
   "metadata": {},
   "outputs": [
    {
     "data": {
      "text/plain": [
       "torch.Size([16, 1, 28, 28])"
      ]
     },
     "execution_count": 53,
     "metadata": {},
     "output_type": "execute_result"
    }
   ],
   "source": [
    "Fakceimage.shape"
   ]
  },
  {
   "cell_type": "code",
   "execution_count": 43,
   "id": "6e9e84bf-5dc6-480a-b0da-85ec35efa374",
   "metadata": {},
   "outputs": [
    {
     "data": {
      "image/png": "[encoded data removed]",
      "text/plain": [
       "<Figure size 720x720 with 16 Axes>"
      ]
     },
     "metadata": {
      "needs_background": "light"
     },
     "output_type": "display_data"
    }
   ],
   "source": [
    "plt.figure(figsize=(10, 10))\n",
    "for i in range(16):\n",
    "    plt.subplot(4, 4, i+1)\n",
    "    plt.imshow(to_pil_image(0.5*Fakceimage[i]+0.5), cmap = \"BuPu\")\n",
    "    plt.axis('off')"
   ]
  },
  {
   "cell_type": "code",
   "execution_count": 44,
   "id": "bd51087d-1736-47c4-b48d-3a27a2c5baac",
   "metadata": {},
   "outputs": [
    {
     "data": {
      "image/png": "[encoded data removed]",
      "text/plain": [
       "<Figure size 720x720 with 16 Axes>"
      ]
     },
     "metadata": {
      "needs_background": "light"
     },
     "output_type": "display_data"
    }
   ],
   "source": [
    "plt.figure(figsize=(10, 10))\n",
    "for i in range(16):\n",
    "    plt.subplot(4, 4, i+1)\n",
    "    plt.imshow(to_pil_image(0.5*Fakceimage[i]+0.5), cmap = \"gray\")\n",
    "    plt.axis('off')"
   ]
  },
  {
   "cell_type": "code",
   "execution_count": 47,
   "id": "22a69a22-c2a8-471c-9526-3d9e9ab45367",
   "metadata": {},
   "outputs": [],
   "source": [
    "with torch.no_grad():\n",
    "    fixed_noise = torch.randn(16, 1,28, 28, device = device)\n",
    "    Fakceimage = model_discriminator(fixed_noise).detach().cpu()"
   ]
  },
  {
   "cell_type": "code",
   "execution_count": 55,
   "id": "8c314103-ac52-4ab2-9e70-4ac2e3a43adc",
   "metadata": {},
   "outputs": [
    {
     "data": {
      "text/plain": [
       "torch.Size([16, 1, 28, 28])"
      ]
     },
     "execution_count": 55,
     "metadata": {},
     "output_type": "execute_result"
    }
   ],
   "source": [
    "Fakceimage.shape"
   ]
  },
  {
   "cell_type": "code",
   "execution_count": 54,
   "id": "69e5e1d1-a2f4-4922-b872-d82feba249ff",
   "metadata": {},
   "outputs": [],
   "source": [
    "# plt.figure(figsize=(10, 10))\n",
    "# for i in range(16):\n",
    "#     plt.subplot(4, 4, i+1)\n",
    "#     plt.imshow(to_pil_image(0.5*Fakceimage[i]+0.5), cmap = \"gray\")\n",
    "#     plt.axis('off')"
   ]
  },
  {
   "cell_type": "code",
   "execution_count": null,
   "id": "e931bd66-1e78-4903-b6a2-4603959c3960",
   "metadata": {},
   "outputs": [],
   "source": []
  }
 ],
 "metadata": {
  "kernelspec": {
   "display_name": "Python 3 (ipykernel)",
   "language": "python",
   "name": "python3"
  },
  "language_info": {
   "codemirror_mode": {
    "name": "ipython",
    "version": 3
   },
   "file_extension": ".py",
   "mimetype": "text/x-python",
   "name": "python",
   "nbconvert_exporter": "python",
   "pygments_lexer": "ipython3",
   "version": "3.7.13"
  }
 },
 "nbformat": 4,
 "nbformat_minor": 5
}
